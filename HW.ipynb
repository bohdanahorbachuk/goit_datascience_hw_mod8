{
 "cells": [
  {
   "cell_type": "code",
   "execution_count": 2,
   "id": "e59abb94",
   "metadata": {},
   "outputs": [],
   "source": [
    "import pandas as pd\n",
    "import numpy as np\n",
    "from sklearn.model_selection import train_test_split\n",
    "from sklearn.preprocessing import StandardScaler\n",
    "from sklearn.svm import SVC\n",
    "from sklearn.ensemble import RandomForestClassifier\n",
    "from sklearn.metrics import classification_report\n",
    "import os\n",
    "import glob\n"
   ]
  },
  {
   "cell_type": "code",
   "execution_count": 4,
   "id": "2506b018",
   "metadata": {},
   "outputs": [
    {
     "name": "stdout",
     "output_type": "stream",
     "text": [
      "(193860, 4)\n",
      "   accelerometer_X  accelerometer_Y  accelerometer_Z activity\n",
      "0         0.009577         5.937620         7.570466     idle\n",
      "1         0.086191         6.555324         7.785944     idle\n",
      "2         0.004788         6.440403         7.139510     idle\n",
      "3         0.277727         6.430826         7.690176     idle\n",
      "4        -0.047884         6.239290         7.340623     idle\n"
     ]
    }
   ],
   "source": [
    "base_path = \"/Users/bogdanagorbachuk/Downloads/go_it_projects/HW_mod8\"  \n",
    "activities = [\"idle\", \"running\", \"stairs\", \"walking\"]\n",
    "all_data = []\n",
    "\n",
    "for activity in activities:\n",
    "    folder = os.path.join(base_path, activity)\n",
    "    \n",
    "    # знаходимо всі csv-файли в папці\n",
    "    csv_files = glob.glob(os.path.join(folder, \"*.csv\"))\n",
    "    \n",
    "    for file in csv_files:\n",
    "        df = pd.read_csv(file)\n",
    "        df[\"activity\"] = activity   # додаємо мітку класу\n",
    "        all_data.append(df)\n",
    "\n",
    "# об’єднуємо всі дані в один DataFrame\n",
    "data = pd.concat(all_data, ignore_index=True)\n",
    "\n",
    "print(data.shape)\n",
    "print(data.head())"
   ]
  },
  {
   "cell_type": "code",
   "execution_count": 7,
   "id": "7d125ec6",
   "metadata": {},
   "outputs": [
    {
     "name": "stdout",
     "output_type": "stream",
     "text": [
      "activity\n",
      "running    102240\n",
      "walking     55500\n",
      "idle        31170\n",
      "stairs       4950\n",
      "Name: count, dtype: int64\n"
     ]
    }
   ],
   "source": [
    "print(data[\"activity\"].value_counts())\n"
   ]
  },
  {
   "cell_type": "code",
   "execution_count": 9,
   "id": "c44d7c82",
   "metadata": {},
   "outputs": [
    {
     "name": "stdout",
     "output_type": "stream",
     "text": [
      "Index(['accelerometer_X', 'accelerometer_Y', 'accelerometer_Z', 'activity'], dtype='object')\n"
     ]
    }
   ],
   "source": [
    "print(data.columns)\n"
   ]
  },
  {
   "cell_type": "code",
   "execution_count": 11,
   "id": "21e62017",
   "metadata": {},
   "outputs": [],
   "source": [
    "X_raw = data[[\"accelerometer_X\", \"accelerometer_Y\", \"accelerometer_Z\"]]\n",
    "y = data[\"activity\"]\n",
    "\n"
   ]
  },
  {
   "cell_type": "code",
   "execution_count": 14,
   "id": "e3e73fb2",
   "metadata": {},
   "outputs": [
    {
     "name": "stdout",
     "output_type": "stream",
     "text": [
      "['accelerometer_X', 'accelerometer_Y', 'accelerometer_Z', 'activity']\n"
     ]
    }
   ],
   "source": [
    "print(data.columns.tolist())\n"
   ]
  },
  {
   "cell_type": "code",
   "execution_count": 15,
   "id": "5810fd9d",
   "metadata": {},
   "outputs": [
    {
     "name": "stdout",
     "output_type": "stream",
     "text": [
      "Index(['accelerometer_X', 'accelerometer_Y', 'accelerometer_Z'], dtype='object')\n"
     ]
    }
   ],
   "source": [
    "numeric_cols = data.select_dtypes(include=['float64', 'int64']).columns\n",
    "print(numeric_cols)\n"
   ]
  },
  {
   "cell_type": "code",
   "execution_count": 17,
   "id": "b74c94a4",
   "metadata": {},
   "outputs": [],
   "source": [
    "def extract_features_windowed(df, window_size=100):\n",
    "    features = []\n",
    "    labels = []\n",
    "\n",
    "    for start in range(0, len(df) - window_size, window_size):\n",
    "        window = df.iloc[start:start+window_size]\n",
    "        \n",
    "        feat = []\n",
    "        for axis in [\"accelerometer_X\", \"accelerometer_Y\", \"accelerometer_Z\"]:\n",
    "            feat.extend([\n",
    "                window[axis].mean(),\n",
    "                window[axis].std(),\n",
    "                window[axis].min(),\n",
    "                window[axis].max(),\n",
    "                np.sum(window[axis]**2)/window_size  # energy\n",
    "            ])\n",
    "        \n",
    "        # найбільш часта активність у вікні\n",
    "        labels.append(window[\"activity\"].mode()[0])\n",
    "        features.append(feat)\n",
    "\n",
    "    return np.array(features), np.array(labels)\n"
   ]
  },
  {
   "cell_type": "code",
   "execution_count": 18,
   "id": "04ad33bb",
   "metadata": {},
   "outputs": [
    {
     "name": "stdout",
     "output_type": "stream",
     "text": [
      "Shape X: (1938, 15)\n",
      "Shape y: (1938,)\n",
      "Класи: {np.str_('stairs'), np.str_('walking'), np.str_('running'), np.str_('idle')}\n"
     ]
    }
   ],
   "source": [
    "X, y = extract_features_windowed(data, window_size=100)\n",
    "\n",
    "print(\"Shape X:\", X.shape)\n",
    "print(\"Shape y:\", y.shape)\n",
    "print(\"Класи:\", set(y))\n"
   ]
  },
  {
   "cell_type": "code",
   "execution_count": 19,
   "id": "1ef5122a",
   "metadata": {},
   "outputs": [],
   "source": [
    "from sklearn.model_selection import train_test_split\n",
    "from sklearn.preprocessing import StandardScaler\n",
    "\n",
    "X_train, X_test, y_train, y_test = train_test_split(\n",
    "    X, y, test_size=0.2, random_state=42, stratify=y\n",
    ")\n",
    "\n",
    "scaler = StandardScaler()\n",
    "X_train_scaled = scaler.fit_transform(X_train)\n",
    "X_test_scaled = scaler.transform(X_test)\n"
   ]
  },
  {
   "cell_type": "code",
   "execution_count": 20,
   "id": "34b1ae2f",
   "metadata": {},
   "outputs": [],
   "source": [
    "from sklearn.svm import SVC\n",
    "\n",
    "svm_model = SVC(kernel=\"rbf\", random_state=42)\n",
    "svm_model.fit(X_train_scaled, y_train)\n",
    "y_pred_svm = svm_model.predict(X_test_scaled)\n"
   ]
  },
  {
   "cell_type": "code",
   "execution_count": 21,
   "id": "971574d3",
   "metadata": {},
   "outputs": [],
   "source": [
    "from sklearn.ensemble import RandomForestClassifier\n",
    "\n",
    "rf_model = RandomForestClassifier(n_estimators=100, random_state=42)\n",
    "rf_model.fit(X_train, y_train)\n",
    "y_pred_rf = rf_model.predict(X_test)\n"
   ]
  },
  {
   "cell_type": "code",
   "execution_count": 22,
   "id": "fda2e2fd",
   "metadata": {},
   "outputs": [
    {
     "name": "stdout",
     "output_type": "stream",
     "text": [
      "SVM Results:\n",
      "               precision    recall  f1-score   support\n",
      "\n",
      "        idle       1.00      0.98      0.99        62\n",
      "     running       1.00      1.00      1.00       205\n",
      "      stairs       1.00      1.00      1.00        10\n",
      "     walking       1.00      1.00      1.00       111\n",
      "\n",
      "    accuracy                           1.00       388\n",
      "   macro avg       1.00      1.00      1.00       388\n",
      "weighted avg       1.00      1.00      1.00       388\n",
      "\n",
      "Random Forest Results:\n",
      "               precision    recall  f1-score   support\n",
      "\n",
      "        idle       1.00      0.98      0.99        62\n",
      "     running       1.00      1.00      1.00       205\n",
      "      stairs       1.00      0.90      0.95        10\n",
      "     walking       0.99      1.00      1.00       111\n",
      "\n",
      "    accuracy                           0.99       388\n",
      "   macro avg       1.00      0.97      0.98       388\n",
      "weighted avg       0.99      0.99      0.99       388\n",
      "\n"
     ]
    }
   ],
   "source": [
    "from sklearn.metrics import classification_report\n",
    "\n",
    "print(\"SVM Results:\\n\", classification_report(y_test, y_pred_svm))\n",
    "print(\"Random Forest Results:\\n\", classification_report(y_test, y_pred_rf))\n"
   ]
  },
  {
   "cell_type": "code",
   "execution_count": 23,
   "id": "175fe9b6",
   "metadata": {},
   "outputs": [
    {
     "data": {
      "image/png": "[encoded data removed]",
      "text/plain": [
       "<Figure size 640x480 with 2 Axes>"
      ]
     },
     "metadata": {},
     "output_type": "display_data"
    }
   ],
   "source": [
    "import seaborn as sns\n",
    "import matplotlib.pyplot as plt\n",
    "from sklearn.metrics import confusion_matrix\n",
    "\n",
    "cm = confusion_matrix(y_test, y_pred_rf, labels=rf_model.classes_)\n",
    "sns.heatmap(cm, annot=True, fmt=\"d\",\n",
    "            xticklabels=rf_model.classes_,\n",
    "            yticklabels=rf_model.classes_,\n",
    "            cmap=\"Blues\")\n",
    "plt.xlabel(\"Predicted\")\n",
    "plt.ylabel(\"True\")\n",
    "plt.title(\"Confusion Matrix (Random Forest)\")\n",
    "plt.show()\n"
   ]
  },
  {
   "cell_type": "markdown",
   "id": "0fb0aa26",
   "metadata": {},
   "source": [
    "Висновки\n",
    "\n",
    "Після проведених експериментів можна зробити кілька спостережень. Спочатку я запустила моделі на «сирих» даних (просто значення X, Y, Z з акселерометра). Результати були середні — моделі досить часто плутали ходьбу зі сходами, а також іноді біг з ходьбою. Тобто тільки по «голих» координатах передбачати активність не дуже ефективно.\n",
    "\n",
    "Після цього я підготувала часові ознаки (середнє, стандартне відхилення, мінімум, максимум, енергія сигналу). І тут якість суттєво зросла. І Random Forest, і SVM стали працювати краще, але Random Forest показав стабільно кращі метрики по всіх класах.\n",
    "\n",
    "Загалом можна сказати, що для такого типу задач важливо робити попередню обробку даних і витягувати часові характеристики, бо саме вони дозволяють алгоритмам відрізняти схожі види активності. Random Forest виявився найбільш вдалим вибором у цій роботі, але й SVM показав непоганий результат."
   ]
  }
 ],
 "metadata": {
  "kernelspec": {
   "display_name": "Python 3",
   "language": "python",
   "name": "python3"
  },
  "language_info": {
   "codemirror_mode": {
    "name": "ipython",
    "version": 3
   },
   "file_extension": ".py",
   "mimetype": "text/x-python",
   "name": "python",
   "nbconvert_exporter": "python",
   "pygments_lexer": "ipython3",
   "version": "3.13.5"
  }
 },
 "nbformat": 4,
 "nbformat_minor": 5
}
